{
 "cells": [
  {
   "cell_type": "markdown",
   "metadata": {},
   "source": [
    "### Điều chỉnh ảnh cầu\n",
    "\n",
    "Nhiễu ảnh cầu là ảnh bị méo do thấu kính hội tụ ánh sáng lên cảm biến ảnh làm cho các phần rìa của ảnh bị bóp méo.\n",
    "\n",
    "<image src=\"Image\\Distored images.png\" width=\"70%\" style=\"display: block; margin: 0 auto\">\n",
    "\n",
    "Các điểm ảnh trên ảnh cầu có thể được làm phẳng một cách đơn giản bằng các sử dụng hệ trục toạ độ cầu. Thao tác này gọi là loại bỏ nhiễu ảnh cầu.\n",
    "\n",
    "<image src=\"Image\\R_O.png\" width=\"50%\" style=\"display: block; margin: 0 auto\">\n",
    "\n",
    "Kết quả sau khi loại bỏ nhiễu cầu:\n",
    "\n",
    "<image src=\"Image\\Distored filter.png\" width=\"70%\" style=\"display: block; margin: 0 auto\">\n",
    "\n"
   ]
  }
 ],
 "metadata": {
  "kernelspec": {
   "display_name": "Python 3.10.6 ('OpenCV')",
   "language": "python",
   "name": "python3"
  },
  "language_info": {
   "codemirror_mode": {
    "name": "ipython",
    "version": 3
   },
   "file_extension": ".py",
   "mimetype": "text/x-python",
   "name": "python",
   "nbconvert_exporter": "python",
   "pygments_lexer": "ipython3",
   "version": "3.10.6"
  },
  "orig_nbformat": 4,
  "vscode": {
   "interpreter": {
    "hash": "95d98a44cda9e75574512297fe2236e6216ed12910f1739f5cecc46a0fa7a95a"
   }
  }
 },
 "nbformat": 4,
 "nbformat_minor": 2
}
