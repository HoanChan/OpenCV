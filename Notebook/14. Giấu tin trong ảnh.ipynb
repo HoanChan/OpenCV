{
 "cells": [
  {
   "cell_type": "markdown",
   "metadata": {},
   "source": [
    "### Trộn ảnh - image funcion\n",
    "- Trộn ở mức Pixel - Pixel level fusion: pixel + pixel --> điểm ảnh mới\n",
    "- Trộn ở mức đặc trưng - Feature level fusion --> Tìm các đặc trưng và xử lý bằng các đặc trưng đó (xem thêm thuật toán SIFT và SURF)\n",
    "- Decision level fusion\n",
    "\n",
    "Phương pháp trộn ảnh dùng để xây dựng các ảnh có độ sáng ở tất cả các vùng đều tốt tương tự như ảnh HDR\n",
    "\n"
   ]
  }
 ],
 "metadata": {
  "kernelspec": {
   "display_name": "Python 3.10.6 ('OpenCV')",
   "language": "python",
   "name": "python3"
  },
  "language_info": {
   "codemirror_mode": {
    "name": "ipython",
    "version": 3
   },
   "file_extension": ".py",
   "mimetype": "text/x-python",
   "name": "python",
   "nbconvert_exporter": "python",
   "pygments_lexer": "ipython3",
   "version": "3.10.6"
  },
  "orig_nbformat": 4,
  "vscode": {
   "interpreter": {
    "hash": "95d98a44cda9e75574512297fe2236e6216ed12910f1739f5cecc46a0fa7a95a"
   }
  }
 },
 "nbformat": 4,
 "nbformat_minor": 2
}
