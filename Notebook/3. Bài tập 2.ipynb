{
 "cells": [
  {
   "cell_type": "markdown",
   "metadata": {},
   "source": [
    "#### _Bài tập 2:_ Sử dụng cách thay đổi giá trị điểm ảnh và 4 công thức nhập kênh màu thành kênh xám (cho biết công thức nào tốt nhất):\n",
    "- Công thức Average: (R+G+B)/3\n",
    "- Công thức Max: Max(R,G,B)\n",
    "- Công thức lightness: (Max(R,G,B) + Min(R,G,B))/2\n",
    "- GRB(A) to gray: 0.299.R + 0.587.G + 0.114.B\n",
    "\n",
    "_Hãy cho biết cách ghép nào giữ chi tiết tốt hơn (bằng code)_"
   ]
  },
  {
   "cell_type": "code",
   "execution_count": 4,
   "metadata": {},
   "outputs": [
    {
     "ename": "error",
     "evalue": "OpenCV(4.6.0) :-1: error: (-5:Bad argument) in function 'normalize'\n> Overload resolution failed:\n>  - normalize() missing required argument 'src' (pos 1)\n>  - normalize() missing required argument 'src' (pos 1)\n",
     "output_type": "error",
     "traceback": [
      "\u001b[1;31m---------------------------------------------------------------------------\u001b[0m",
      "\u001b[1;31merror\u001b[0m                                     Traceback (most recent call last)",
      "\u001b[1;32md:\\BIG Projects\\Python\\OpenCV\\Notebook\\3. Bài tập 2.ipynb Cell 2\u001b[0m in \u001b[0;36m<cell line: 43>\u001b[1;34m()\u001b[0m\n\u001b[0;32m     <a href='vscode-notebook-cell:/d%3A/BIG%20Projects/Python/OpenCV/Notebook/3.%20B%C3%A0i%20t%E1%BA%ADp%202.ipynb#W1sZmlsZQ%3D%3D?line=40'>41</a>\u001b[0m     \u001b[39mreturn\u001b[39;00m img_1\n\u001b[0;32m     <a href='vscode-notebook-cell:/d%3A/BIG%20Projects/Python/OpenCV/Notebook/3.%20B%C3%A0i%20t%E1%BA%ADp%202.ipynb#W1sZmlsZQ%3D%3D?line=41'>42</a>\u001b[0m image \u001b[39m=\u001b[39m cv2\u001b[39m.\u001b[39mimread(\u001b[39mr\u001b[39m\u001b[39m'\u001b[39m\u001b[39md:\u001b[39m\u001b[39m\\\u001b[39m\u001b[39micon.png\u001b[39m\u001b[39m'\u001b[39m, cv2\u001b[39m.\u001b[39mIMREAD_COLOR)\n\u001b[1;32m---> <a href='vscode-notebook-cell:/d%3A/BIG%20Projects/Python/OpenCV/Notebook/3.%20B%C3%A0i%20t%E1%BA%ADp%202.ipynb#W1sZmlsZQ%3D%3D?line=42'>43</a>\u001b[0m cv2\u001b[39m.\u001b[39;49mnormalize()\n\u001b[0;32m     <a href='vscode-notebook-cell:/d%3A/BIG%20Projects/Python/OpenCV/Notebook/3.%20B%C3%A0i%20t%E1%BA%ADp%202.ipynb#W1sZmlsZQ%3D%3D?line=43'>44</a>\u001b[0m Show(Gray(image, GrayType\u001b[39m.\u001b[39mAVG), \u001b[39m\"\u001b[39m\u001b[39mẢnh xám công thức AVG\u001b[39m\u001b[39m\"\u001b[39m)\n\u001b[0;32m     <a href='vscode-notebook-cell:/d%3A/BIG%20Projects/Python/OpenCV/Notebook/3.%20B%C3%A0i%20t%E1%BA%ADp%202.ipynb#W1sZmlsZQ%3D%3D?line=44'>45</a>\u001b[0m Show(Gray(image, GrayType\u001b[39m.\u001b[39mMAX), \u001b[39m\"\u001b[39m\u001b[39mẢnh xám công thức MAX\u001b[39m\u001b[39m\"\u001b[39m)\n",
      "\u001b[1;31merror\u001b[0m: OpenCV(4.6.0) :-1: error: (-5:Bad argument) in function 'normalize'\n> Overload resolution failed:\n>  - normalize() missing required argument 'src' (pos 1)\n>  - normalize() missing required argument 'src' (pos 1)\n"
     ]
    }
   ],
   "source": [
    "import enum\n",
    "from matplotlib import pyplot as plt\n",
    "import cv2 \n",
    "\n",
    "class GrayType(enum.Enum):\n",
    "    AVG = 1\n",
    "    MAX = 2\n",
    "    Light = 3\n",
    "    EYE = 4\n",
    "\n",
    "def Show(image, name):\n",
    "    \"\"\" Chuyển kênh màu cho phù hợp với thư viện matplotlib \"\"\"\n",
    "    (b, g, r) = cv2.split(image)\n",
    "    img_2 = cv2.merge([r,g,b])\n",
    "    plt.imshow(img_2)\n",
    "    plt.title(name)\n",
    "    plt.show()\n",
    "\n",
    "def ShowGray(image, name):\n",
    "    img_2 = image.copy()\n",
    "    plt.imshow(img_2, cmap='gray')\n",
    "    plt.title(name)\n",
    "    plt.show()\n",
    "\n",
    "def Gray(image, type:GrayType):\n",
    "\n",
    "    \"\"\" Chuyển sang ảnh xám \"\"\"\n",
    "    (b, g, r) = cv2.split(image)\n",
    "    (height, width, channel) = image.shape\n",
    "    img_1 = image.copy()\n",
    "    for i in range(height):\n",
    "        for j in range(width):\n",
    "            if type == GrayType.AVG :\n",
    "                img_1[i, j] = (int(r[i,j]) + int(g[i,j]) + int(b[i,j]))//3\n",
    "            elif type == GrayType.MAX :\n",
    "                img_1[i, j] = max(r[i,j], g[i,j], b[i,j])\n",
    "            elif type == GrayType.Light :\n",
    "                img_1[i, j] = (int(max(r[i,j], g[i,j], b[i,j])) + int(min(r[i,j], g[i,j], b[i,j])))//2 % 256                \n",
    "            elif type == GrayType.EYE :\n",
    "                img_1[i, j] = 0.229 * r[i,j] + 0.587 * g[i,j] + 0.114 * b[i,j]\n",
    "    return img_1\n",
    "image = cv2.imread(r'd:\\icon.png', cv2.IMREAD_COLOR)\n",
    "cv2.normalize()\n",
    "Show(Gray(image, GrayType.AVG), \"Ảnh xám công thức AVG\")\n",
    "Show(Gray(image, GrayType.MAX), \"Ảnh xám công thức MAX\")\n",
    "Show(Gray(image, GrayType.Light), \"Ảnh xám công thức Lightness\")\n",
    "Show(Gray(image, GrayType.EYE), \"Ảnh xám công thức theo mắt nhìn\")\n",
    "gray = cv2.cvtColor(image, cv2.COLOR_RGB2GRAY)\n",
    "ShowGray(gray,\"Ảnh xám CV2 đọc vào\")"
   ]
  }
 ],
 "metadata": {
  "kernelspec": {
   "display_name": "Python 3.10.4 ('OpenCV')",
   "language": "python",
   "name": "python3"
  },
  "language_info": {
   "codemirror_mode": {
    "name": "ipython",
    "version": 3
   },
   "file_extension": ".py",
   "mimetype": "text/x-python",
   "name": "python",
   "nbconvert_exporter": "python",
   "pygments_lexer": "ipython3",
   "version": "3.9.13"
  },
  "orig_nbformat": 4,
  "vscode": {
   "interpreter": {
    "hash": "8414cfc0b8c84c2216b9d2784d5b01b8ef377e5722dbe77b149a8cec3c691a72"
   }
  }
 },
 "nbformat": 4,
 "nbformat_minor": 2
}
