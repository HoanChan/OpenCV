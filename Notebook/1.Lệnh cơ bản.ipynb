{
 "cells": [
  {
   "cell_type": "code",
   "execution_count": 1,
   "metadata": {},
   "outputs": [],
   "source": [
    "# Python program to explain cv2.imshow() method \n",
    "  \n",
    "# importing cv2 \n",
    "import cv2 \n",
    "\n",
    "# Reading an image in default mode\n",
    "image = cv2.imread('image\\icon.png', cv2.IMREAD_COLOR)"
   ]
  },
  {
   "cell_type": "code",
   "execution_count": 2,
   "metadata": {},
   "outputs": [
    {
     "name": "stdout",
     "output_type": "stream",
     "text": [
      "(256, 256, 3)\n",
      "uint8\n"
     ]
    }
   ],
   "source": [
    "# Read info\n",
    "dimensions = image.shape\n",
    "print(dimensions)\n",
    "# DataType\n",
    "print(image.dtype)"
   ]
  },
  {
   "cell_type": "markdown",
   "metadata": {},
   "source": [
    "unit8 = unsigned integer 8 bit\n",
    "\n",
    "Số nguyên dương (không dấu) nhận giá trị từ 0..65000, 8 bit màu (deep color)\n",
    "\n",
    "1 điểm ảnh có 255 trạng thái ở 1 kênh. ảnh màu 3 kênh 1 điểm ảnh có hơn 16.7tr màu\n",
    "\n",
    "--> Thường các phương pháp xử lý ảnh cần chuyển ảnh sang ảnh trắng đen"
   ]
  },
  {
   "cell_type": "code",
   "execution_count": 5,
   "metadata": {},
   "outputs": [
    {
     "name": "stdout",
     "output_type": "stream",
     "text": [
      "0 0 255\n",
      "0\n",
      "0\n",
      "255\n"
     ]
    }
   ],
   "source": [
    "# Read Pixcel Data\n",
    "(b, g, r) = image[6, 40]\n",
    "print(b, g, r)\n",
    "print(b)\n",
    "print(g)\n",
    "print(r)"
   ]
  },
  {
   "cell_type": "code",
   "execution_count": 4,
   "metadata": {},
   "outputs": [
    {
     "name": "stdout",
     "output_type": "stream",
     "text": [
      "133 63 46\n"
     ]
    }
   ],
   "source": [
    "# Change Pixel color\n",
    "image[6,40] = (0,0,255)\n",
    "print(b, g, r)"
   ]
  }
 ],
 "metadata": {
  "kernelspec": {
   "display_name": "Python 3.10.6 ('OpenCV')",
   "language": "python",
   "name": "python3"
  },
  "language_info": {
   "codemirror_mode": {
    "name": "ipython",
    "version": 3
   },
   "file_extension": ".py",
   "mimetype": "text/x-python",
   "name": "python",
   "nbconvert_exporter": "python",
   "pygments_lexer": "ipython3",
   "version": "3.10.6"
  },
  "orig_nbformat": 4,
  "vscode": {
   "interpreter": {
    "hash": "95d98a44cda9e75574512297fe2236e6216ed12910f1739f5cecc46a0fa7a95a"
   }
  }
 },
 "nbformat": 4,
 "nbformat_minor": 2
}
