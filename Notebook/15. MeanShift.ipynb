{
 "cells": [
  {
   "cell_type": "markdown",
   "metadata": {},
   "source": [
    "Video là sự kết hợp của nhiều ảnh theo thời gian. Ảnh là không gian (Spatial) còn Video thì theo thời gian (Temporal)\n",
    "Dò vết đối tượng bằng Meanshift tracking là một trong rất nhiều kỹ thật dò vết đối tượng trong video! Các bước thực hiện như sau:\n",
    "1. Xây dựng phân bố dữ liệu (Mô hình hoá dữ liệu về màu sắc, về vị trí, mật độ, mỗi dữ liệu thành 1 điểm trên đồ thị, tạo thành 1 đám mây điểm, mỗi điểm là một phân bố của dữ liệu)\n",
    "2. Chọn ngẫu nhiên 1 vùng của phân bố\n",
    "3. Tìm điểm trung tâm (Centroid) của vùng đó\n",
    "4. Lấy Centroid của vùng cũ làm tâm điểm để tạo 1 vùng mới\n",
    "5. Lặp lại bước 3 và 4 cho đến khi hội tụ (Centroid không di chuyển nữa)\n",
    "\n",
    "Bản chất toán học\n",
    "- Xét tập $S$ gồm $n$ điểm dữ liệu $x_i$\n",
    "- Trong đó $x$: là điểm trung tâm (Mean/Centroid) của vùng hiện tại\n",
    "- Gọi $K(x)$ là kernel function (Xác định mức độ ảnh hưởng của từng data point đến việc tìm centroid/mean)\n",
    "- gọi $m(x)$ là mean/centroid của vùng mới với $x$ làm tâm thì có công thức tính như sau:\n",
    "\n",
    "$$m(x)=\\frac{\\sum_{i=1}^n K(x-x_i) x_i}{\\sum_{i=1}^n K(x-x_i)}$$\n",
    "- $m(x) - x$ gọi là meanshift\n",
    "- Dừng khi $m(x) = x$\n",
    "\n",
    "Người ta có thể dùg Color Histogram hay Different scales để xác định vật thể \n",
    "\n",
    "Viêc dò vết đối tượng bằng hàm $K(x-x_i)$ có nhiều cách khác nhau\n",
    "\n"
   ]
  },
  {
   "cell_type": "code",
   "execution_count": 7,
   "metadata": {},
   "outputs": [
    {
     "name": "stdout",
     "output_type": "stream",
     "text": [
      "[[0.36787944 0.60653066 0.36787944]\n",
      " [0.60653066 1.         0.60653066]\n",
      " [0.36787944 0.60653066 0.36787944]]\n"
     ]
    }
   ],
   "source": [
    "from matplotlib import pyplot as plt\n",
    "import cv2\n",
    "import numpy as np\n",
    "\n",
    "\n",
    "def Show(image, name, gray=False):\n",
    "    if gray:\n",
    "        plt.imshow(image, cmap='gray')\n",
    "    else:\n",
    "        plt.imshow(cv2.cvtColor(image, cv2.COLOR_BGR2RGB))\n",
    "    plt.title(name)\n",
    "\n",
    "\n",
    "image = cv2.imread('image\\icon.png', cv2.IMREAD_COLOR)\n",
    "(w, h, c) = image.shape\n",
    "dst = image[160:250, 130:250]\n",
    "plt.subplot(121), Show(image, \"Input\")\n",
    "plt.subplot(122), Show(dst, \"Crop\")\n",
    "plt.show()\n"
   ]
  }
 ],
 "metadata": {
  "kernelspec": {
   "display_name": "Python 3.10.6 ('OpenCV')",
   "language": "python",
   "name": "python3"
  },
  "language_info": {
   "codemirror_mode": {
    "name": "ipython",
    "version": 3
   },
   "file_extension": ".py",
   "mimetype": "text/x-python",
   "name": "python",
   "nbconvert_exporter": "python",
   "pygments_lexer": "ipython3",
   "version": "3.10.6"
  },
  "orig_nbformat": 4,
  "vscode": {
   "interpreter": {
    "hash": "95d98a44cda9e75574512297fe2236e6216ed12910f1739f5cecc46a0fa7a95a"
   }
  }
 },
 "nbformat": 4,
 "nbformat_minor": 2
}
