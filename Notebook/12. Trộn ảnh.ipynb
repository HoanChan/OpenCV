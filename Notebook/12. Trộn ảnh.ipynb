{
 "cells": [
  {
   "cell_type": "markdown",
   "metadata": {},
   "source": [
    "### Trộn ảnh - image funcion\n",
    "- Trộn ở mức Pixel - Pixel level fusion: pixel + pixel --> điểm ảnh mới\n",
    "\n",
    "<image src=\"Image\\Pixel level fusion.png\" width=\"70%\" style=\"display: block; margin: 0 auto\">\n",
    "\n",
    "- Trộn ở mức đặc trưng - Feature level fusion --> Tìm các đặc trưng và xử lý bằng các đặc trưng đó (xem thêm thuật toán SIFT và SURF)\n",
    "\n",
    "<image src=\"Image\\Feature level fusion.png\" width=\"70%\" style=\"display: block; margin: 0 auto\">\n",
    "\n",
    "- Decision level fusion\n",
    "\n",
    "<image src=\"Image\\Decision level fusion.png\" width=\"70%\" style=\"display: block; margin: 0 auto\">\n",
    "\n",
    "#### Ứng dụng của trộn ảnh\n",
    "\n",
    "Phương pháp trộn ảnh bằng mức sáng (Exposure Fusion) dùng để xây dựng các ảnh có độ sáng ở tất cả các vùng đều tốt tương tự như ảnh HDR(High Dynamic Range) nhờ việc ghép nhiều ảnh có các mức sáng khác nhau lại để tất cả các vùng dù là hilight hay shadow đều có độ sáng đầy đủ.\n",
    "\n",
    "<image src=\"Image\\HDR1.png\" width=\"70%\" style=\"display: block; margin: 0 auto\">\n",
    "\n",
    "<image src=\"Image\\HDR2.png\" width=\"70%\" style=\"display: block; margin: 0 auto\">\n",
    "\n",
    "Đơn giản hơn là phương pháp trộn ảnh theo trọng số sẽ giúp tạo hiệu ứng chuyển tiếp ảnh khi thay đổi trọng số (mức đóng góp của 2 ảnh gốc để tạo ra ảnh hiển thị)\n",
    "\n",
    "<image src=\"Image\\Image Translation.gif\" width=\"70%\" style=\"display: block; margin: 0 auto\">"
   ]
  }
 ],
 "metadata": {
  "kernelspec": {
   "display_name": "Python 3.10.6 ('OpenCV')",
   "language": "python",
   "name": "python3"
  },
  "language_info": {
   "codemirror_mode": {
    "name": "ipython",
    "version": 3
   },
   "file_extension": ".py",
   "mimetype": "text/x-python",
   "name": "python",
   "nbconvert_exporter": "python",
   "pygments_lexer": "ipython3",
   "version": "3.10.6"
  },
  "orig_nbformat": 4,
  "vscode": {
   "interpreter": {
    "hash": "95d98a44cda9e75574512297fe2236e6216ed12910f1739f5cecc46a0fa7a95a"
   }
  }
 },
 "nbformat": 4,
 "nbformat_minor": 2
}
