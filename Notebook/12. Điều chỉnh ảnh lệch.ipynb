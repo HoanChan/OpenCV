{
 "cells": [
  {
   "cell_type": "markdown",
   "metadata": {},
   "source": [
    "### Điều chỉnh ảnh lệch\n",
    "\n",
    "Ảnh lệch (skew images) là ảnh bị xoay hoặc kéo giãn 2 cạnh (Ảnh từ hình chữ nhật thành hình thoi)\n",
    "\n",
    "<image src=\"Image\\Skew images.png\" width=\"70%\" style=\"display: block; margin: 0 auto\">\n",
    "\n",
    "Để điều chỉnh được ảnh lệnh thì có rất nhiều phương pháp, mấu chốt là tính được ảnh bị xoay bao nhiêu độ và xoay theo trục nào.\n",
    "\n",
    "<image src=\"Image\\Deskew.png\" width=\"70%\" style=\"display: block; margin: 0 auto\">"
   ]
  }
 ],
 "metadata": {
  "kernelspec": {
   "display_name": "Python 3.10.6 ('OpenCV')",
   "language": "python",
   "name": "python3"
  },
  "language_info": {
   "codemirror_mode": {
    "name": "ipython",
    "version": 3
   },
   "file_extension": ".py",
   "mimetype": "text/x-python",
   "name": "python",
   "nbconvert_exporter": "python",
   "pygments_lexer": "ipython3",
   "version": "3.10.6"
  },
  "orig_nbformat": 4,
  "vscode": {
   "interpreter": {
    "hash": "95d98a44cda9e75574512297fe2236e6216ed12910f1739f5cecc46a0fa7a95a"
   }
  }
 },
 "nbformat": 4,
 "nbformat_minor": 2
}
